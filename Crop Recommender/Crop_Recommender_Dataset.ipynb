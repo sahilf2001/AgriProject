{
  "nbformat": 4,
  "nbformat_minor": 0,
  "metadata": {
    "colab": {
      "name": "Crop_Recommender_Dataset.ipynb",
      "provenance": []
    },
    "kernelspec": {
      "name": "python3",
      "display_name": "Python 3"
    },
    "language_info": {
      "name": "python"
    }
  },
  "cells": [
    {
      "cell_type": "markdown",
      "source": [
        "#Importing the Libraries"
      ],
      "metadata": {
        "id": "Qg65QkqM4hgu"
      }
    },
    {
      "cell_type": "code",
      "execution_count": null,
      "metadata": {
        "id": "ahNsTErC3VyM"
      },
      "outputs": [],
      "source": [
        "import pandas as pd\n",
        "import numpy as np\n",
        "np.random.seed(0)\n",
        "import matplotlib.pyplot as plt\n",
        "from sklearn.preprocessing import LabelEncoder\n",
        "from sklearn.ensemble import RandomForestClassifier\n",
        "from sklearn.metrics import accuracy_score, precision_score, recall_score\n",
        "from sklearn.model_selection import train_test_split\n",
        "from sklearn.metrics import confusion_matrix, ConfusionMatrixDisplay"
      ]
    },
    {
      "cell_type": "markdown",
      "source": [
        "#Importing the Dataset"
      ],
      "metadata": {
        "id": "pbni4oq04mjU"
      }
    },
    {
      "cell_type": "code",
      "source": [
        "data = pd.read_csv(\"dataset.csv\")\n",
        "data"
      ],
      "metadata": {
        "colab": {
          "base_uri": "https://localhost:8080/",
          "height": 423
        },
        "id": "KVGNjvIY3WWe",
        "outputId": "a8bf4f78-1251-4267-ce63-6b21f3f2521d"
      },
      "execution_count": null,
      "outputs": [
        {
          "output_type": "execute_result",
          "data": {
            "text/plain": [
              "       N   P    K   ph    EC        S     Cu      Fe      Mn     Zn      B  \\\n",
              "0    143  69  217  5.9  0.58  0.23000  10.20  116.35   59.96  54.85  21.29   \n",
              "1    170  36  216  5.9  0.15  0.28000  15.69  114.20   56.87  31.28  28.62   \n",
              "2    158  66  219  6.8  0.34  0.20000  15.29   65.87   51.81  57.12  27.59   \n",
              "3    133  45  207  6.4  0.94  0.21000   8.48  103.10   43.81  68.50  47.29   \n",
              "4    132  48  218  6.7  0.54  0.19000   5.59   63.40   56.40  46.71  31.04   \n",
              "..   ...  ..  ...  ...   ...      ...    ...     ...     ...    ...    ...   \n",
              "615   41  23  135  5.0  1.67  0.10655  26.00   39.20  206.89  31.09  20.64   \n",
              "616   49  45   90  5.8  1.98  0.09229  19.00   40.20   91.12  32.68  14.91   \n",
              "617  131  24  121  4.9  2.24  0.08775  22.00   40.00   94.34  24.93  23.74   \n",
              "618  131  55  130  5.3  2.48  0.08983  15.00   41.00   92.58  45.73  21.48   \n",
              "619  129  34  160  4.8  1.08  0.08869  25.00   39.00  259.93  33.49  14.16   \n",
              "\n",
              "           label  \n",
              "0    pomegranate  \n",
              "1    pomegranate  \n",
              "2    pomegranate  \n",
              "3    pomegranate  \n",
              "4    pomegranate  \n",
              "..           ...  \n",
              "615       potato  \n",
              "616       potato  \n",
              "617       potato  \n",
              "618       potato  \n",
              "619       potato  \n",
              "\n",
              "[620 rows x 12 columns]"
            ],
            "text/html": [
              "\n",
              "  <div id=\"df-dd94fcad-dc72-4991-9033-156a454a1f8c\">\n",
              "    <div class=\"colab-df-container\">\n",
              "      <div>\n",
              "<style scoped>\n",
              "    .dataframe tbody tr th:only-of-type {\n",
              "        vertical-align: middle;\n",
              "    }\n",
              "\n",
              "    .dataframe tbody tr th {\n",
              "        vertical-align: top;\n",
              "    }\n",
              "\n",
              "    .dataframe thead th {\n",
              "        text-align: right;\n",
              "    }\n",
              "</style>\n",
              "<table border=\"1\" class=\"dataframe\">\n",
              "  <thead>\n",
              "    <tr style=\"text-align: right;\">\n",
              "      <th></th>\n",
              "      <th>N</th>\n",
              "      <th>P</th>\n",
              "      <th>K</th>\n",
              "      <th>ph</th>\n",
              "      <th>EC</th>\n",
              "      <th>S</th>\n",
              "      <th>Cu</th>\n",
              "      <th>Fe</th>\n",
              "      <th>Mn</th>\n",
              "      <th>Zn</th>\n",
              "      <th>B</th>\n",
              "      <th>label</th>\n",
              "    </tr>\n",
              "  </thead>\n",
              "  <tbody>\n",
              "    <tr>\n",
              "      <th>0</th>\n",
              "      <td>143</td>\n",
              "      <td>69</td>\n",
              "      <td>217</td>\n",
              "      <td>5.9</td>\n",
              "      <td>0.58</td>\n",
              "      <td>0.23000</td>\n",
              "      <td>10.20</td>\n",
              "      <td>116.35</td>\n",
              "      <td>59.96</td>\n",
              "      <td>54.85</td>\n",
              "      <td>21.29</td>\n",
              "      <td>pomegranate</td>\n",
              "    </tr>\n",
              "    <tr>\n",
              "      <th>1</th>\n",
              "      <td>170</td>\n",
              "      <td>36</td>\n",
              "      <td>216</td>\n",
              "      <td>5.9</td>\n",
              "      <td>0.15</td>\n",
              "      <td>0.28000</td>\n",
              "      <td>15.69</td>\n",
              "      <td>114.20</td>\n",
              "      <td>56.87</td>\n",
              "      <td>31.28</td>\n",
              "      <td>28.62</td>\n",
              "      <td>pomegranate</td>\n",
              "    </tr>\n",
              "    <tr>\n",
              "      <th>2</th>\n",
              "      <td>158</td>\n",
              "      <td>66</td>\n",
              "      <td>219</td>\n",
              "      <td>6.8</td>\n",
              "      <td>0.34</td>\n",
              "      <td>0.20000</td>\n",
              "      <td>15.29</td>\n",
              "      <td>65.87</td>\n",
              "      <td>51.81</td>\n",
              "      <td>57.12</td>\n",
              "      <td>27.59</td>\n",
              "      <td>pomegranate</td>\n",
              "    </tr>\n",
              "    <tr>\n",
              "      <th>3</th>\n",
              "      <td>133</td>\n",
              "      <td>45</td>\n",
              "      <td>207</td>\n",
              "      <td>6.4</td>\n",
              "      <td>0.94</td>\n",
              "      <td>0.21000</td>\n",
              "      <td>8.48</td>\n",
              "      <td>103.10</td>\n",
              "      <td>43.81</td>\n",
              "      <td>68.50</td>\n",
              "      <td>47.29</td>\n",
              "      <td>pomegranate</td>\n",
              "    </tr>\n",
              "    <tr>\n",
              "      <th>4</th>\n",
              "      <td>132</td>\n",
              "      <td>48</td>\n",
              "      <td>218</td>\n",
              "      <td>6.7</td>\n",
              "      <td>0.54</td>\n",
              "      <td>0.19000</td>\n",
              "      <td>5.59</td>\n",
              "      <td>63.40</td>\n",
              "      <td>56.40</td>\n",
              "      <td>46.71</td>\n",
              "      <td>31.04</td>\n",
              "      <td>pomegranate</td>\n",
              "    </tr>\n",
              "    <tr>\n",
              "      <th>...</th>\n",
              "      <td>...</td>\n",
              "      <td>...</td>\n",
              "      <td>...</td>\n",
              "      <td>...</td>\n",
              "      <td>...</td>\n",
              "      <td>...</td>\n",
              "      <td>...</td>\n",
              "      <td>...</td>\n",
              "      <td>...</td>\n",
              "      <td>...</td>\n",
              "      <td>...</td>\n",
              "      <td>...</td>\n",
              "    </tr>\n",
              "    <tr>\n",
              "      <th>615</th>\n",
              "      <td>41</td>\n",
              "      <td>23</td>\n",
              "      <td>135</td>\n",
              "      <td>5.0</td>\n",
              "      <td>1.67</td>\n",
              "      <td>0.10655</td>\n",
              "      <td>26.00</td>\n",
              "      <td>39.20</td>\n",
              "      <td>206.89</td>\n",
              "      <td>31.09</td>\n",
              "      <td>20.64</td>\n",
              "      <td>potato</td>\n",
              "    </tr>\n",
              "    <tr>\n",
              "      <th>616</th>\n",
              "      <td>49</td>\n",
              "      <td>45</td>\n",
              "      <td>90</td>\n",
              "      <td>5.8</td>\n",
              "      <td>1.98</td>\n",
              "      <td>0.09229</td>\n",
              "      <td>19.00</td>\n",
              "      <td>40.20</td>\n",
              "      <td>91.12</td>\n",
              "      <td>32.68</td>\n",
              "      <td>14.91</td>\n",
              "      <td>potato</td>\n",
              "    </tr>\n",
              "    <tr>\n",
              "      <th>617</th>\n",
              "      <td>131</td>\n",
              "      <td>24</td>\n",
              "      <td>121</td>\n",
              "      <td>4.9</td>\n",
              "      <td>2.24</td>\n",
              "      <td>0.08775</td>\n",
              "      <td>22.00</td>\n",
              "      <td>40.00</td>\n",
              "      <td>94.34</td>\n",
              "      <td>24.93</td>\n",
              "      <td>23.74</td>\n",
              "      <td>potato</td>\n",
              "    </tr>\n",
              "    <tr>\n",
              "      <th>618</th>\n",
              "      <td>131</td>\n",
              "      <td>55</td>\n",
              "      <td>130</td>\n",
              "      <td>5.3</td>\n",
              "      <td>2.48</td>\n",
              "      <td>0.08983</td>\n",
              "      <td>15.00</td>\n",
              "      <td>41.00</td>\n",
              "      <td>92.58</td>\n",
              "      <td>45.73</td>\n",
              "      <td>21.48</td>\n",
              "      <td>potato</td>\n",
              "    </tr>\n",
              "    <tr>\n",
              "      <th>619</th>\n",
              "      <td>129</td>\n",
              "      <td>34</td>\n",
              "      <td>160</td>\n",
              "      <td>4.8</td>\n",
              "      <td>1.08</td>\n",
              "      <td>0.08869</td>\n",
              "      <td>25.00</td>\n",
              "      <td>39.00</td>\n",
              "      <td>259.93</td>\n",
              "      <td>33.49</td>\n",
              "      <td>14.16</td>\n",
              "      <td>potato</td>\n",
              "    </tr>\n",
              "  </tbody>\n",
              "</table>\n",
              "<p>620 rows × 12 columns</p>\n",
              "</div>\n",
              "      <button class=\"colab-df-convert\" onclick=\"convertToInteractive('df-dd94fcad-dc72-4991-9033-156a454a1f8c')\"\n",
              "              title=\"Convert this dataframe to an interactive table.\"\n",
              "              style=\"display:none;\">\n",
              "        \n",
              "  <svg xmlns=\"http://www.w3.org/2000/svg\" height=\"24px\"viewBox=\"0 0 24 24\"\n",
              "       width=\"24px\">\n",
              "    <path d=\"M0 0h24v24H0V0z\" fill=\"none\"/>\n",
              "    <path d=\"M18.56 5.44l.94 2.06.94-2.06 2.06-.94-2.06-.94-.94-2.06-.94 2.06-2.06.94zm-11 1L8.5 8.5l.94-2.06 2.06-.94-2.06-.94L8.5 2.5l-.94 2.06-2.06.94zm10 10l.94 2.06.94-2.06 2.06-.94-2.06-.94-.94-2.06-.94 2.06-2.06.94z\"/><path d=\"M17.41 7.96l-1.37-1.37c-.4-.4-.92-.59-1.43-.59-.52 0-1.04.2-1.43.59L10.3 9.45l-7.72 7.72c-.78.78-.78 2.05 0 2.83L4 21.41c.39.39.9.59 1.41.59.51 0 1.02-.2 1.41-.59l7.78-7.78 2.81-2.81c.8-.78.8-2.07 0-2.86zM5.41 20L4 18.59l7.72-7.72 1.47 1.35L5.41 20z\"/>\n",
              "  </svg>\n",
              "      </button>\n",
              "      \n",
              "  <style>\n",
              "    .colab-df-container {\n",
              "      display:flex;\n",
              "      flex-wrap:wrap;\n",
              "      gap: 12px;\n",
              "    }\n",
              "\n",
              "    .colab-df-convert {\n",
              "      background-color: #E8F0FE;\n",
              "      border: none;\n",
              "      border-radius: 50%;\n",
              "      cursor: pointer;\n",
              "      display: none;\n",
              "      fill: #1967D2;\n",
              "      height: 32px;\n",
              "      padding: 0 0 0 0;\n",
              "      width: 32px;\n",
              "    }\n",
              "\n",
              "    .colab-df-convert:hover {\n",
              "      background-color: #E2EBFA;\n",
              "      box-shadow: 0px 1px 2px rgba(60, 64, 67, 0.3), 0px 1px 3px 1px rgba(60, 64, 67, 0.15);\n",
              "      fill: #174EA6;\n",
              "    }\n",
              "\n",
              "    [theme=dark] .colab-df-convert {\n",
              "      background-color: #3B4455;\n",
              "      fill: #D2E3FC;\n",
              "    }\n",
              "\n",
              "    [theme=dark] .colab-df-convert:hover {\n",
              "      background-color: #434B5C;\n",
              "      box-shadow: 0px 1px 3px 1px rgba(0, 0, 0, 0.15);\n",
              "      filter: drop-shadow(0px 1px 2px rgba(0, 0, 0, 0.3));\n",
              "      fill: #FFFFFF;\n",
              "    }\n",
              "  </style>\n",
              "\n",
              "      <script>\n",
              "        const buttonEl =\n",
              "          document.querySelector('#df-dd94fcad-dc72-4991-9033-156a454a1f8c button.colab-df-convert');\n",
              "        buttonEl.style.display =\n",
              "          google.colab.kernel.accessAllowed ? 'block' : 'none';\n",
              "\n",
              "        async function convertToInteractive(key) {\n",
              "          const element = document.querySelector('#df-dd94fcad-dc72-4991-9033-156a454a1f8c');\n",
              "          const dataTable =\n",
              "            await google.colab.kernel.invokeFunction('convertToInteractive',\n",
              "                                                     [key], {});\n",
              "          if (!dataTable) return;\n",
              "\n",
              "          const docLinkHtml = 'Like what you see? Visit the ' +\n",
              "            '<a target=\"_blank\" href=https://colab.research.google.com/notebooks/data_table.ipynb>data table notebook</a>'\n",
              "            + ' to learn more about interactive tables.';\n",
              "          element.innerHTML = '';\n",
              "          dataTable['output_type'] = 'display_data';\n",
              "          await google.colab.output.renderOutput(dataTable, element);\n",
              "          const docLink = document.createElement('div');\n",
              "          docLink.innerHTML = docLinkHtml;\n",
              "          element.appendChild(docLink);\n",
              "        }\n",
              "      </script>\n",
              "    </div>\n",
              "  </div>\n",
              "  "
            ]
          },
          "metadata": {},
          "execution_count": 2
        }
      ]
    },
    {
      "cell_type": "markdown",
      "source": [
        "#Data Pre-Processing"
      ],
      "metadata": {
        "id": "K76Uc_SA4rDH"
      }
    },
    {
      "cell_type": "code",
      "source": [
        "data.isna().sum()"
      ],
      "metadata": {
        "colab": {
          "base_uri": "https://localhost:8080/"
        },
        "id": "qK8HPIlT3WZ2",
        "outputId": "164ac5f9-fb7f-4482-e3c1-d3611976c8a6"
      },
      "execution_count": null,
      "outputs": [
        {
          "output_type": "execute_result",
          "data": {
            "text/plain": [
              "N        0\n",
              "P        0\n",
              "K        0\n",
              "ph       0\n",
              "EC       0\n",
              "S        0\n",
              "Cu       0\n",
              "Fe       0\n",
              "Mn       0\n",
              "Zn       0\n",
              "B        0\n",
              "label    0\n",
              "dtype: int64"
            ]
          },
          "metadata": {},
          "execution_count": 3
        }
      ]
    },
    {
      "cell_type": "code",
      "source": [
        "enc = LabelEncoder()\n",
        "data.label = enc.fit_transform(data.label)"
      ],
      "metadata": {
        "id": "exc09S0B3Wpc"
      },
      "execution_count": null,
      "outputs": []
    },
    {
      "cell_type": "code",
      "source": [
        "data"
      ],
      "metadata": {
        "colab": {
          "base_uri": "https://localhost:8080/",
          "height": 423
        },
        "id": "7CBeaeyK3WsC",
        "outputId": "efb78748-9de4-4728-e983-e2c29947a2bd"
      },
      "execution_count": null,
      "outputs": [
        {
          "output_type": "execute_result",
          "data": {
            "text/plain": [
              "       N   P    K   ph    EC        S     Cu      Fe      Mn     Zn      B  \\\n",
              "0    143  69  217  5.9  0.58  0.23000  10.20  116.35   59.96  54.85  21.29   \n",
              "1    170  36  216  5.9  0.15  0.28000  15.69  114.20   56.87  31.28  28.62   \n",
              "2    158  66  219  6.8  0.34  0.20000  15.29   65.87   51.81  57.12  27.59   \n",
              "3    133  45  207  6.4  0.94  0.21000   8.48  103.10   43.81  68.50  47.29   \n",
              "4    132  48  218  6.7  0.54  0.19000   5.59   63.40   56.40  46.71  31.04   \n",
              "..   ...  ..  ...  ...   ...      ...    ...     ...     ...    ...    ...   \n",
              "615   41  23  135  5.0  1.67  0.10655  26.00   39.20  206.89  31.09  20.64   \n",
              "616   49  45   90  5.8  1.98  0.09229  19.00   40.20   91.12  32.68  14.91   \n",
              "617  131  24  121  4.9  2.24  0.08775  22.00   40.00   94.34  24.93  23.74   \n",
              "618  131  55  130  5.3  2.48  0.08983  15.00   41.00   92.58  45.73  21.48   \n",
              "619  129  34  160  4.8  1.08  0.08869  25.00   39.00  259.93  33.49  14.16   \n",
              "\n",
              "     label  \n",
              "0        3  \n",
              "1        3  \n",
              "2        3  \n",
              "3        3  \n",
              "4        3  \n",
              "..     ...  \n",
              "615      4  \n",
              "616      4  \n",
              "617      4  \n",
              "618      4  \n",
              "619      4  \n",
              "\n",
              "[620 rows x 12 columns]"
            ],
            "text/html": [
              "\n",
              "  <div id=\"df-1fb13158-b5d5-46e7-9b63-01443634aa4d\">\n",
              "    <div class=\"colab-df-container\">\n",
              "      <div>\n",
              "<style scoped>\n",
              "    .dataframe tbody tr th:only-of-type {\n",
              "        vertical-align: middle;\n",
              "    }\n",
              "\n",
              "    .dataframe tbody tr th {\n",
              "        vertical-align: top;\n",
              "    }\n",
              "\n",
              "    .dataframe thead th {\n",
              "        text-align: right;\n",
              "    }\n",
              "</style>\n",
              "<table border=\"1\" class=\"dataframe\">\n",
              "  <thead>\n",
              "    <tr style=\"text-align: right;\">\n",
              "      <th></th>\n",
              "      <th>N</th>\n",
              "      <th>P</th>\n",
              "      <th>K</th>\n",
              "      <th>ph</th>\n",
              "      <th>EC</th>\n",
              "      <th>S</th>\n",
              "      <th>Cu</th>\n",
              "      <th>Fe</th>\n",
              "      <th>Mn</th>\n",
              "      <th>Zn</th>\n",
              "      <th>B</th>\n",
              "      <th>label</th>\n",
              "    </tr>\n",
              "  </thead>\n",
              "  <tbody>\n",
              "    <tr>\n",
              "      <th>0</th>\n",
              "      <td>143</td>\n",
              "      <td>69</td>\n",
              "      <td>217</td>\n",
              "      <td>5.9</td>\n",
              "      <td>0.58</td>\n",
              "      <td>0.23000</td>\n",
              "      <td>10.20</td>\n",
              "      <td>116.35</td>\n",
              "      <td>59.96</td>\n",
              "      <td>54.85</td>\n",
              "      <td>21.29</td>\n",
              "      <td>3</td>\n",
              "    </tr>\n",
              "    <tr>\n",
              "      <th>1</th>\n",
              "      <td>170</td>\n",
              "      <td>36</td>\n",
              "      <td>216</td>\n",
              "      <td>5.9</td>\n",
              "      <td>0.15</td>\n",
              "      <td>0.28000</td>\n",
              "      <td>15.69</td>\n",
              "      <td>114.20</td>\n",
              "      <td>56.87</td>\n",
              "      <td>31.28</td>\n",
              "      <td>28.62</td>\n",
              "      <td>3</td>\n",
              "    </tr>\n",
              "    <tr>\n",
              "      <th>2</th>\n",
              "      <td>158</td>\n",
              "      <td>66</td>\n",
              "      <td>219</td>\n",
              "      <td>6.8</td>\n",
              "      <td>0.34</td>\n",
              "      <td>0.20000</td>\n",
              "      <td>15.29</td>\n",
              "      <td>65.87</td>\n",
              "      <td>51.81</td>\n",
              "      <td>57.12</td>\n",
              "      <td>27.59</td>\n",
              "      <td>3</td>\n",
              "    </tr>\n",
              "    <tr>\n",
              "      <th>3</th>\n",
              "      <td>133</td>\n",
              "      <td>45</td>\n",
              "      <td>207</td>\n",
              "      <td>6.4</td>\n",
              "      <td>0.94</td>\n",
              "      <td>0.21000</td>\n",
              "      <td>8.48</td>\n",
              "      <td>103.10</td>\n",
              "      <td>43.81</td>\n",
              "      <td>68.50</td>\n",
              "      <td>47.29</td>\n",
              "      <td>3</td>\n",
              "    </tr>\n",
              "    <tr>\n",
              "      <th>4</th>\n",
              "      <td>132</td>\n",
              "      <td>48</td>\n",
              "      <td>218</td>\n",
              "      <td>6.7</td>\n",
              "      <td>0.54</td>\n",
              "      <td>0.19000</td>\n",
              "      <td>5.59</td>\n",
              "      <td>63.40</td>\n",
              "      <td>56.40</td>\n",
              "      <td>46.71</td>\n",
              "      <td>31.04</td>\n",
              "      <td>3</td>\n",
              "    </tr>\n",
              "    <tr>\n",
              "      <th>...</th>\n",
              "      <td>...</td>\n",
              "      <td>...</td>\n",
              "      <td>...</td>\n",
              "      <td>...</td>\n",
              "      <td>...</td>\n",
              "      <td>...</td>\n",
              "      <td>...</td>\n",
              "      <td>...</td>\n",
              "      <td>...</td>\n",
              "      <td>...</td>\n",
              "      <td>...</td>\n",
              "      <td>...</td>\n",
              "    </tr>\n",
              "    <tr>\n",
              "      <th>615</th>\n",
              "      <td>41</td>\n",
              "      <td>23</td>\n",
              "      <td>135</td>\n",
              "      <td>5.0</td>\n",
              "      <td>1.67</td>\n",
              "      <td>0.10655</td>\n",
              "      <td>26.00</td>\n",
              "      <td>39.20</td>\n",
              "      <td>206.89</td>\n",
              "      <td>31.09</td>\n",
              "      <td>20.64</td>\n",
              "      <td>4</td>\n",
              "    </tr>\n",
              "    <tr>\n",
              "      <th>616</th>\n",
              "      <td>49</td>\n",
              "      <td>45</td>\n",
              "      <td>90</td>\n",
              "      <td>5.8</td>\n",
              "      <td>1.98</td>\n",
              "      <td>0.09229</td>\n",
              "      <td>19.00</td>\n",
              "      <td>40.20</td>\n",
              "      <td>91.12</td>\n",
              "      <td>32.68</td>\n",
              "      <td>14.91</td>\n",
              "      <td>4</td>\n",
              "    </tr>\n",
              "    <tr>\n",
              "      <th>617</th>\n",
              "      <td>131</td>\n",
              "      <td>24</td>\n",
              "      <td>121</td>\n",
              "      <td>4.9</td>\n",
              "      <td>2.24</td>\n",
              "      <td>0.08775</td>\n",
              "      <td>22.00</td>\n",
              "      <td>40.00</td>\n",
              "      <td>94.34</td>\n",
              "      <td>24.93</td>\n",
              "      <td>23.74</td>\n",
              "      <td>4</td>\n",
              "    </tr>\n",
              "    <tr>\n",
              "      <th>618</th>\n",
              "      <td>131</td>\n",
              "      <td>55</td>\n",
              "      <td>130</td>\n",
              "      <td>5.3</td>\n",
              "      <td>2.48</td>\n",
              "      <td>0.08983</td>\n",
              "      <td>15.00</td>\n",
              "      <td>41.00</td>\n",
              "      <td>92.58</td>\n",
              "      <td>45.73</td>\n",
              "      <td>21.48</td>\n",
              "      <td>4</td>\n",
              "    </tr>\n",
              "    <tr>\n",
              "      <th>619</th>\n",
              "      <td>129</td>\n",
              "      <td>34</td>\n",
              "      <td>160</td>\n",
              "      <td>4.8</td>\n",
              "      <td>1.08</td>\n",
              "      <td>0.08869</td>\n",
              "      <td>25.00</td>\n",
              "      <td>39.00</td>\n",
              "      <td>259.93</td>\n",
              "      <td>33.49</td>\n",
              "      <td>14.16</td>\n",
              "      <td>4</td>\n",
              "    </tr>\n",
              "  </tbody>\n",
              "</table>\n",
              "<p>620 rows × 12 columns</p>\n",
              "</div>\n",
              "      <button class=\"colab-df-convert\" onclick=\"convertToInteractive('df-1fb13158-b5d5-46e7-9b63-01443634aa4d')\"\n",
              "              title=\"Convert this dataframe to an interactive table.\"\n",
              "              style=\"display:none;\">\n",
              "        \n",
              "  <svg xmlns=\"http://www.w3.org/2000/svg\" height=\"24px\"viewBox=\"0 0 24 24\"\n",
              "       width=\"24px\">\n",
              "    <path d=\"M0 0h24v24H0V0z\" fill=\"none\"/>\n",
              "    <path d=\"M18.56 5.44l.94 2.06.94-2.06 2.06-.94-2.06-.94-.94-2.06-.94 2.06-2.06.94zm-11 1L8.5 8.5l.94-2.06 2.06-.94-2.06-.94L8.5 2.5l-.94 2.06-2.06.94zm10 10l.94 2.06.94-2.06 2.06-.94-2.06-.94-.94-2.06-.94 2.06-2.06.94z\"/><path d=\"M17.41 7.96l-1.37-1.37c-.4-.4-.92-.59-1.43-.59-.52 0-1.04.2-1.43.59L10.3 9.45l-7.72 7.72c-.78.78-.78 2.05 0 2.83L4 21.41c.39.39.9.59 1.41.59.51 0 1.02-.2 1.41-.59l7.78-7.78 2.81-2.81c.8-.78.8-2.07 0-2.86zM5.41 20L4 18.59l7.72-7.72 1.47 1.35L5.41 20z\"/>\n",
              "  </svg>\n",
              "      </button>\n",
              "      \n",
              "  <style>\n",
              "    .colab-df-container {\n",
              "      display:flex;\n",
              "      flex-wrap:wrap;\n",
              "      gap: 12px;\n",
              "    }\n",
              "\n",
              "    .colab-df-convert {\n",
              "      background-color: #E8F0FE;\n",
              "      border: none;\n",
              "      border-radius: 50%;\n",
              "      cursor: pointer;\n",
              "      display: none;\n",
              "      fill: #1967D2;\n",
              "      height: 32px;\n",
              "      padding: 0 0 0 0;\n",
              "      width: 32px;\n",
              "    }\n",
              "\n",
              "    .colab-df-convert:hover {\n",
              "      background-color: #E2EBFA;\n",
              "      box-shadow: 0px 1px 2px rgba(60, 64, 67, 0.3), 0px 1px 3px 1px rgba(60, 64, 67, 0.15);\n",
              "      fill: #174EA6;\n",
              "    }\n",
              "\n",
              "    [theme=dark] .colab-df-convert {\n",
              "      background-color: #3B4455;\n",
              "      fill: #D2E3FC;\n",
              "    }\n",
              "\n",
              "    [theme=dark] .colab-df-convert:hover {\n",
              "      background-color: #434B5C;\n",
              "      box-shadow: 0px 1px 3px 1px rgba(0, 0, 0, 0.15);\n",
              "      filter: drop-shadow(0px 1px 2px rgba(0, 0, 0, 0.3));\n",
              "      fill: #FFFFFF;\n",
              "    }\n",
              "  </style>\n",
              "\n",
              "      <script>\n",
              "        const buttonEl =\n",
              "          document.querySelector('#df-1fb13158-b5d5-46e7-9b63-01443634aa4d button.colab-df-convert');\n",
              "        buttonEl.style.display =\n",
              "          google.colab.kernel.accessAllowed ? 'block' : 'none';\n",
              "\n",
              "        async function convertToInteractive(key) {\n",
              "          const element = document.querySelector('#df-1fb13158-b5d5-46e7-9b63-01443634aa4d');\n",
              "          const dataTable =\n",
              "            await google.colab.kernel.invokeFunction('convertToInteractive',\n",
              "                                                     [key], {});\n",
              "          if (!dataTable) return;\n",
              "\n",
              "          const docLinkHtml = 'Like what you see? Visit the ' +\n",
              "            '<a target=\"_blank\" href=https://colab.research.google.com/notebooks/data_table.ipynb>data table notebook</a>'\n",
              "            + ' to learn more about interactive tables.';\n",
              "          element.innerHTML = '';\n",
              "          dataTable['output_type'] = 'display_data';\n",
              "          await google.colab.output.renderOutput(dataTable, element);\n",
              "          const docLink = document.createElement('div');\n",
              "          docLink.innerHTML = docLinkHtml;\n",
              "          element.appendChild(docLink);\n",
              "        }\n",
              "      </script>\n",
              "    </div>\n",
              "  </div>\n",
              "  "
            ]
          },
          "metadata": {},
          "execution_count": 21
        }
      ]
    },
    {
      "cell_type": "code",
      "source": [
        "data.shape"
      ],
      "metadata": {
        "colab": {
          "base_uri": "https://localhost:8080/"
        },
        "id": "J_otoucs3WuO",
        "outputId": "4a010732-8209-4272-9243-304aff964770"
      },
      "execution_count": null,
      "outputs": [
        {
          "output_type": "execute_result",
          "data": {
            "text/plain": [
              "(620, 12)"
            ]
          },
          "metadata": {},
          "execution_count": 6
        }
      ]
    },
    {
      "cell_type": "markdown",
      "source": [
        "#SMOTE To Reduce Class Imbalance\n"
      ],
      "metadata": {
        "id": "_DSbt7qb44M2"
      }
    },
    {
      "cell_type": "code",
      "source": [
        "from imblearn.over_sampling import SMOTE\n",
        "oversample = SMOTE()\n",
        "features, labels = oversample.fit_resample(data.drop([\"label\"],axis=1), data.label)"
      ],
      "metadata": {
        "id": "jgU-afy63Www"
      },
      "execution_count": null,
      "outputs": []
    },
    {
      "cell_type": "markdown",
      "source": [
        "#Splitting the Dataset"
      ],
      "metadata": {
        "id": "96wlP5pq5k8a"
      }
    },
    {
      "cell_type": "code",
      "source": [
        "train_x, test_x, train_y, test_y = train_test_split(features,\n",
        "                                                    labels,\n",
        "                                                    test_size=0.2,\n",
        "                                                    shuffle=True)"
      ],
      "metadata": {
        "id": "SHr56Jv93Wy_"
      },
      "execution_count": null,
      "outputs": []
    },
    {
      "cell_type": "markdown",
      "source": [
        "#Model Building"
      ],
      "metadata": {
        "id": "Z4kxGUtH5nwi"
      }
    },
    {
      "cell_type": "code",
      "source": [
        "rf = RandomForestClassifier(n_estimators=15,random_state=0)\n",
        "rf.fit(train_x, train_y)"
      ],
      "metadata": {
        "colab": {
          "base_uri": "https://localhost:8080/"
        },
        "id": "zsC5zhcK3W1M",
        "outputId": "6942b168-22d6-4403-db53-d5116809e4df"
      },
      "execution_count": null,
      "outputs": [
        {
          "output_type": "execute_result",
          "data": {
            "text/plain": [
              "RandomForestClassifier(n_estimators=15, random_state=0)"
            ]
          },
          "metadata": {},
          "execution_count": 9
        }
      ]
    },
    {
      "cell_type": "code",
      "source": [
        "print(\"Train Accuracy : {:.2f} %\".format(accuracy_score(rf.predict(train_x),train_y)*100))\n",
        "print(\"Test Accuracy  : {:.2f} %\".format(accuracy_score(rf.predict(test_x),test_y)*100))\n",
        "print(\"Precision      : {:.2f} %\".format(precision_score(rf.predict(test_x),test_y,average=\"micro\")*100))\n",
        "print(\"Recall         : {:.2f} %\".format(recall_score(rf.predict(test_x),test_y,average=\"micro\")*100))"
      ],
      "metadata": {
        "colab": {
          "base_uri": "https://localhost:8080/"
        },
        "id": "XfEeNj0J3W6m",
        "outputId": "25989f43-c31b-41e1-8d0c-e23fa57bd0a8"
      },
      "execution_count": null,
      "outputs": [
        {
          "output_type": "stream",
          "name": "stdout",
          "text": [
            "Train Accuracy : 99.80 %\n",
            "Test Accuracy  : 96.80 %\n",
            "Precision      : 96.80 %\n",
            "Recall         : 96.80 %\n"
          ]
        }
      ]
    },
    {
      "cell_type": "code",
      "source": [
        "cm = confusion_matrix(rf.predict(test_x),test_y)\n",
        "disp = ConfusionMatrixDisplay(confusion_matrix=cm,\n",
        "                              display_labels=[enc.classes_[i] for i in rf.classes_])\n",
        "fig, ax = plt.subplots(figsize=(10,10))\n",
        "disp.plot(ax=ax)\n",
        "plt.title(\"Confusion Matrix\")\n",
        "plt.show()"
      ],
      "metadata": {
        "colab": {
          "base_uri": "https://localhost:8080/",
          "height": 580
        },
        "id": "xMv-TS083W8g",
        "outputId": "68991b82-3d4c-4a21-da02-fbdff1ce6ad6"
      },
      "execution_count": null,
      "outputs": [
        {
          "output_type": "display_data",
          "data": {
            "text/plain": [
              "<Figure size 720x720 with 2 Axes>"
            ],
            "image/png": "[encoded data removed]"
          },
          "metadata": {
            "needs_background": "light"
          }
        }
      ]
    },
    {
      "cell_type": "code",
      "source": [
        "import pickle\n",
        "pickle.dump(rf,open('CropRecommender.pkl','wb'))"
      ],
      "metadata": {
        "id": "d-cm5dvP3W_a"
      },
      "execution_count": null,
      "outputs": []
    },
    {
      "cell_type": "code",
      "source": [
        "rf.predict(test_x)"
      ],
      "metadata": {
        "colab": {
          "base_uri": "https://localhost:8080/"
        },
        "id": "dRjIFnQ-3XEH",
        "outputId": "e586f484-ad6f-4ecd-994a-e5cc5732a31c"
      },
      "execution_count": null,
      "outputs": [
        {
          "output_type": "execute_result",
          "data": {
            "text/plain": [
              "array([0, 2, 5, 0, 2, 0, 4, 4, 5, 4, 5, 1, 0, 5, 0, 2, 5, 2, 0, 3, 0, 4,\n",
              "       0, 2, 3, 0, 5, 1, 2, 5, 5, 3, 3, 4, 1, 5, 2, 1, 5, 3, 1, 4, 5, 3,\n",
              "       3, 5, 4, 5, 4, 2, 5, 4, 1, 4, 2, 3, 2, 1, 0, 4, 0, 0, 3, 5, 3, 5,\n",
              "       2, 1, 3, 2, 3, 5, 0, 3, 0, 1, 5, 2, 1, 2, 0, 0, 4, 0, 0, 3, 0, 1,\n",
              "       5, 3, 2, 1, 3, 2, 5, 5, 5, 3, 4, 2, 2, 4, 3, 2, 1, 4, 3, 2, 3, 0,\n",
              "       2, 1, 3, 0, 3, 1, 4, 3, 5, 4, 0, 2, 1, 5, 3])"
            ]
          },
          "metadata": {},
          "execution_count": 16
        }
      ]
    },
    {
      "cell_type": "code",
      "source": [
        "test_x"
      ],
      "metadata": {
        "colab": {
          "base_uri": "https://localhost:8080/",
          "height": 423
        },
        "id": "YHeC7u6L3XJg",
        "outputId": "5cfa9721-4122-4154-82fa-6318fa327a40"
      },
      "execution_count": null,
      "outputs": [
        {
          "output_type": "execute_result",
          "data": {
            "text/plain": [
              "       N   P    K   ph    EC       S     Cu      Fe       Mn     Zn      B\n",
              "210  157  35   62  5.9  0.20  0.1050  12.01  149.89    98.51  38.97  28.68\n",
              "319  121  26   54  6.6  0.77  0.2540  20.40  214.29  1076.67  24.33  13.47\n",
              "511  148  97  365  5.8  1.70  0.0145  16.65  138.79    57.07  19.13   1.64\n",
              "299  147  60   64  6.2  0.12  0.0430  15.39   70.29   140.79  34.46  36.79\n",
              "365  120  16   61  6.4  0.55  0.2270  18.59  114.46  1492.46  22.12  10.17\n",
              "..   ...  ..  ...  ...   ...     ...    ...     ...      ...    ...    ...\n",
              "229  145  43   89  5.9  0.20  0.1260   5.56   84.79    93.06  32.96  47.63\n",
              "313  129  29   55  6.0  0.53  0.2950  22.48  164.02   305.54  26.34  16.09\n",
              "165   81  77  151  5.6  1.43  0.3200  11.18   70.99    82.76  30.27  52.31\n",
              "467  142  83  352  7.7  0.68  0.0179  13.18  149.81    66.01  26.53   7.10\n",
              "15   168  52  174  6.9  0.55  0.1700  19.96   82.57    33.71  69.05  22.09\n",
              "\n",
              "[125 rows x 11 columns]"
            ],
            "text/html": [
              "\n",
              "  <div id=\"df-d63cc65f-563d-4801-a82a-caf82ea50dc3\">\n",
              "    <div class=\"colab-df-container\">\n",
              "      <div>\n",
              "<style scoped>\n",
              "    .dataframe tbody tr th:only-of-type {\n",
              "        vertical-align: middle;\n",
              "    }\n",
              "\n",
              "    .dataframe tbody tr th {\n",
              "        vertical-align: top;\n",
              "    }\n",
              "\n",
              "    .dataframe thead th {\n",
              "        text-align: right;\n",
              "    }\n",
              "</style>\n",
              "<table border=\"1\" class=\"dataframe\">\n",
              "  <thead>\n",
              "    <tr style=\"text-align: right;\">\n",
              "      <th></th>\n",
              "      <th>N</th>\n",
              "      <th>P</th>\n",
              "      <th>K</th>\n",
              "      <th>ph</th>\n",
              "      <th>EC</th>\n",
              "      <th>S</th>\n",
              "      <th>Cu</th>\n",
              "      <th>Fe</th>\n",
              "      <th>Mn</th>\n",
              "      <th>Zn</th>\n",
              "      <th>B</th>\n",
              "    </tr>\n",
              "  </thead>\n",
              "  <tbody>\n",
              "    <tr>\n",
              "      <th>210</th>\n",
              "      <td>157</td>\n",
              "      <td>35</td>\n",
              "      <td>62</td>\n",
              "      <td>5.9</td>\n",
              "      <td>0.20</td>\n",
              "      <td>0.1050</td>\n",
              "      <td>12.01</td>\n",
              "      <td>149.89</td>\n",
              "      <td>98.51</td>\n",
              "      <td>38.97</td>\n",
              "      <td>28.68</td>\n",
              "    </tr>\n",
              "    <tr>\n",
              "      <th>319</th>\n",
              "      <td>121</td>\n",
              "      <td>26</td>\n",
              "      <td>54</td>\n",
              "      <td>6.6</td>\n",
              "      <td>0.77</td>\n",
              "      <td>0.2540</td>\n",
              "      <td>20.40</td>\n",
              "      <td>214.29</td>\n",
              "      <td>1076.67</td>\n",
              "      <td>24.33</td>\n",
              "      <td>13.47</td>\n",
              "    </tr>\n",
              "    <tr>\n",
              "      <th>511</th>\n",
              "      <td>148</td>\n",
              "      <td>97</td>\n",
              "      <td>365</td>\n",
              "      <td>5.8</td>\n",
              "      <td>1.70</td>\n",
              "      <td>0.0145</td>\n",
              "      <td>16.65</td>\n",
              "      <td>138.79</td>\n",
              "      <td>57.07</td>\n",
              "      <td>19.13</td>\n",
              "      <td>1.64</td>\n",
              "    </tr>\n",
              "    <tr>\n",
              "      <th>299</th>\n",
              "      <td>147</td>\n",
              "      <td>60</td>\n",
              "      <td>64</td>\n",
              "      <td>6.2</td>\n",
              "      <td>0.12</td>\n",
              "      <td>0.0430</td>\n",
              "      <td>15.39</td>\n",
              "      <td>70.29</td>\n",
              "      <td>140.79</td>\n",
              "      <td>34.46</td>\n",
              "      <td>36.79</td>\n",
              "    </tr>\n",
              "    <tr>\n",
              "      <th>365</th>\n",
              "      <td>120</td>\n",
              "      <td>16</td>\n",
              "      <td>61</td>\n",
              "      <td>6.4</td>\n",
              "      <td>0.55</td>\n",
              "      <td>0.2270</td>\n",
              "      <td>18.59</td>\n",
              "      <td>114.46</td>\n",
              "      <td>1492.46</td>\n",
              "      <td>22.12</td>\n",
              "      <td>10.17</td>\n",
              "    </tr>\n",
              "    <tr>\n",
              "      <th>...</th>\n",
              "      <td>...</td>\n",
              "      <td>...</td>\n",
              "      <td>...</td>\n",
              "      <td>...</td>\n",
              "      <td>...</td>\n",
              "      <td>...</td>\n",
              "      <td>...</td>\n",
              "      <td>...</td>\n",
              "      <td>...</td>\n",
              "      <td>...</td>\n",
              "      <td>...</td>\n",
              "    </tr>\n",
              "    <tr>\n",
              "      <th>229</th>\n",
              "      <td>145</td>\n",
              "      <td>43</td>\n",
              "      <td>89</td>\n",
              "      <td>5.9</td>\n",
              "      <td>0.20</td>\n",
              "      <td>0.1260</td>\n",
              "      <td>5.56</td>\n",
              "      <td>84.79</td>\n",
              "      <td>93.06</td>\n",
              "      <td>32.96</td>\n",
              "      <td>47.63</td>\n",
              "    </tr>\n",
              "    <tr>\n",
              "      <th>313</th>\n",
              "      <td>129</td>\n",
              "      <td>29</td>\n",
              "      <td>55</td>\n",
              "      <td>6.0</td>\n",
              "      <td>0.53</td>\n",
              "      <td>0.2950</td>\n",
              "      <td>22.48</td>\n",
              "      <td>164.02</td>\n",
              "      <td>305.54</td>\n",
              "      <td>26.34</td>\n",
              "      <td>16.09</td>\n",
              "    </tr>\n",
              "    <tr>\n",
              "      <th>165</th>\n",
              "      <td>81</td>\n",
              "      <td>77</td>\n",
              "      <td>151</td>\n",
              "      <td>5.6</td>\n",
              "      <td>1.43</td>\n",
              "      <td>0.3200</td>\n",
              "      <td>11.18</td>\n",
              "      <td>70.99</td>\n",
              "      <td>82.76</td>\n",
              "      <td>30.27</td>\n",
              "      <td>52.31</td>\n",
              "    </tr>\n",
              "    <tr>\n",
              "      <th>467</th>\n",
              "      <td>142</td>\n",
              "      <td>83</td>\n",
              "      <td>352</td>\n",
              "      <td>7.7</td>\n",
              "      <td>0.68</td>\n",
              "      <td>0.0179</td>\n",
              "      <td>13.18</td>\n",
              "      <td>149.81</td>\n",
              "      <td>66.01</td>\n",
              "      <td>26.53</td>\n",
              "      <td>7.10</td>\n",
              "    </tr>\n",
              "    <tr>\n",
              "      <th>15</th>\n",
              "      <td>168</td>\n",
              "      <td>52</td>\n",
              "      <td>174</td>\n",
              "      <td>6.9</td>\n",
              "      <td>0.55</td>\n",
              "      <td>0.1700</td>\n",
              "      <td>19.96</td>\n",
              "      <td>82.57</td>\n",
              "      <td>33.71</td>\n",
              "      <td>69.05</td>\n",
              "      <td>22.09</td>\n",
              "    </tr>\n",
              "  </tbody>\n",
              "</table>\n",
              "<p>125 rows × 11 columns</p>\n",
              "</div>\n",
              "      <button class=\"colab-df-convert\" onclick=\"convertToInteractive('df-d63cc65f-563d-4801-a82a-caf82ea50dc3')\"\n",
              "              title=\"Convert this dataframe to an interactive table.\"\n",
              "              style=\"display:none;\">\n",
              "        \n",
              "  <svg xmlns=\"http://www.w3.org/2000/svg\" height=\"24px\"viewBox=\"0 0 24 24\"\n",
              "       width=\"24px\">\n",
              "    <path d=\"M0 0h24v24H0V0z\" fill=\"none\"/>\n",
              "    <path d=\"M18.56 5.44l.94 2.06.94-2.06 2.06-.94-2.06-.94-.94-2.06-.94 2.06-2.06.94zm-11 1L8.5 8.5l.94-2.06 2.06-.94-2.06-.94L8.5 2.5l-.94 2.06-2.06.94zm10 10l.94 2.06.94-2.06 2.06-.94-2.06-.94-.94-2.06-.94 2.06-2.06.94z\"/><path d=\"M17.41 7.96l-1.37-1.37c-.4-.4-.92-.59-1.43-.59-.52 0-1.04.2-1.43.59L10.3 9.45l-7.72 7.72c-.78.78-.78 2.05 0 2.83L4 21.41c.39.39.9.59 1.41.59.51 0 1.02-.2 1.41-.59l7.78-7.78 2.81-2.81c.8-.78.8-2.07 0-2.86zM5.41 20L4 18.59l7.72-7.72 1.47 1.35L5.41 20z\"/>\n",
              "  </svg>\n",
              "      </button>\n",
              "      \n",
              "  <style>\n",
              "    .colab-df-container {\n",
              "      display:flex;\n",
              "      flex-wrap:wrap;\n",
              "      gap: 12px;\n",
              "    }\n",
              "\n",
              "    .colab-df-convert {\n",
              "      background-color: #E8F0FE;\n",
              "      border: none;\n",
              "      border-radius: 50%;\n",
              "      cursor: pointer;\n",
              "      display: none;\n",
              "      fill: #1967D2;\n",
              "      height: 32px;\n",
              "      padding: 0 0 0 0;\n",
              "      width: 32px;\n",
              "    }\n",
              "\n",
              "    .colab-df-convert:hover {\n",
              "      background-color: #E2EBFA;\n",
              "      box-shadow: 0px 1px 2px rgba(60, 64, 67, 0.3), 0px 1px 3px 1px rgba(60, 64, 67, 0.15);\n",
              "      fill: #174EA6;\n",
              "    }\n",
              "\n",
              "    [theme=dark] .colab-df-convert {\n",
              "      background-color: #3B4455;\n",
              "      fill: #D2E3FC;\n",
              "    }\n",
              "\n",
              "    [theme=dark] .colab-df-convert:hover {\n",
              "      background-color: #434B5C;\n",
              "      box-shadow: 0px 1px 3px 1px rgba(0, 0, 0, 0.15);\n",
              "      filter: drop-shadow(0px 1px 2px rgba(0, 0, 0, 0.3));\n",
              "      fill: #FFFFFF;\n",
              "    }\n",
              "  </style>\n",
              "\n",
              "      <script>\n",
              "        const buttonEl =\n",
              "          document.querySelector('#df-d63cc65f-563d-4801-a82a-caf82ea50dc3 button.colab-df-convert');\n",
              "        buttonEl.style.display =\n",
              "          google.colab.kernel.accessAllowed ? 'block' : 'none';\n",
              "\n",
              "        async function convertToInteractive(key) {\n",
              "          const element = document.querySelector('#df-d63cc65f-563d-4801-a82a-caf82ea50dc3');\n",
              "          const dataTable =\n",
              "            await google.colab.kernel.invokeFunction('convertToInteractive',\n",
              "                                                     [key], {});\n",
              "          if (!dataTable) return;\n",
              "\n",
              "          const docLinkHtml = 'Like what you see? Visit the ' +\n",
              "            '<a target=\"_blank\" href=https://colab.research.google.com/notebooks/data_table.ipynb>data table notebook</a>'\n",
              "            + ' to learn more about interactive tables.';\n",
              "          element.innerHTML = '';\n",
              "          dataTable['output_type'] = 'display_data';\n",
              "          await google.colab.output.renderOutput(dataTable, element);\n",
              "          const docLink = document.createElement('div');\n",
              "          docLink.innerHTML = docLinkHtml;\n",
              "          element.appendChild(docLink);\n",
              "        }\n",
              "      </script>\n",
              "    </div>\n",
              "  </div>\n",
              "  "
            ]
          },
          "metadata": {},
          "execution_count": 17
        }
      ]
    },
    {
      "cell_type": "code",
      "source": [
        "type(test_x)"
      ],
      "metadata": {
        "colab": {
          "base_uri": "https://localhost:8080/"
        },
        "id": "3eRfAX9S3XOP",
        "outputId": "a58b1724-abd7-498e-ffe7-238bf163ffd0"
      },
      "execution_count": null,
      "outputs": [
        {
          "output_type": "execute_result",
          "data": {
            "text/plain": [
              "pandas.core.frame.DataFrame"
            ]
          },
          "metadata": {},
          "execution_count": 18
        }
      ]
    },
    {
      "cell_type": "code",
      "source": [
        "Xnew = [[157,\t35,\t62,\t5.9,\t0.20,\t0.1050,\t12.01,\t149.89,\t98.51, 38.97, 28.68]]\n",
        "rf.predict(Xnew)"
      ],
      "metadata": {
        "colab": {
          "base_uri": "https://localhost:8080/"
        },
        "id": "dlly8Cws3XQd",
        "outputId": "82919bcd-fb06-4ee0-86f8-6f1c69d244e2"
      },
      "execution_count": null,
      "outputs": [
        {
          "output_type": "stream",
          "name": "stderr",
          "text": [
            "/usr/local/lib/python3.7/dist-packages/sklearn/base.py:451: UserWarning: X does not have valid feature names, but RandomForestClassifier was fitted with feature names\n",
            "  \"X does not have valid feature names, but\"\n"
          ]
        },
        {
          "output_type": "execute_result",
          "data": {
            "text/plain": [
              "array([0])"
            ]
          },
          "metadata": {},
          "execution_count": 19
        }
      ]
    },
    {
      "cell_type": "code",
      "source": [
        "# 3 - pomegranate\n",
        "# 0 - grapes\n",
        "# 1 - Mango\n",
        "# 2 - Mulberry\n",
        "# 5 - ragi\n",
        "# 4 - potato"
      ],
      "metadata": {
        "id": "vbNHRGH13XTJ"
      },
      "execution_count": null,
      "outputs": []
    },
    {
      "cell_type": "code",
      "source": [
        ""
      ],
      "metadata": {
        "id": "6R-j5Zvo3XYF"
      },
      "execution_count": null,
      "outputs": []
    },
    {
      "cell_type": "code",
      "source": [
        ""
      ],
      "metadata": {
        "id": "DrZbKfrc3Xam"
      },
      "execution_count": null,
      "outputs": []
    },
    {
      "cell_type": "code",
      "source": [
        ""
      ],
      "metadata": {
        "id": "GBGMqsWD3XdO"
      },
      "execution_count": null,
      "outputs": []
    },
    {
      "cell_type": "code",
      "source": [
        ""
      ],
      "metadata": {
        "id": "50kYAAU43Xfb"
      },
      "execution_count": null,
      "outputs": []
    },
    {
      "cell_type": "code",
      "source": [
        ""
      ],
      "metadata": {
        "id": "dX5g6e9h3Xh8"
      },
      "execution_count": null,
      "outputs": []
    },
    {
      "cell_type": "code",
      "source": [
        ""
      ],
      "metadata": {
        "id": "jZ1_FIUq3XkM"
      },
      "execution_count": null,
      "outputs": []
    },
    {
      "cell_type": "code",
      "source": [
        ""
      ],
      "metadata": {
        "id": "SPSGxj623Xmq"
      },
      "execution_count": null,
      "outputs": []
    },
    {
      "cell_type": "code",
      "source": [
        ""
      ],
      "metadata": {
        "id": "gaxTEitG3XpQ"
      },
      "execution_count": null,
      "outputs": []
    },
    {
      "cell_type": "code",
      "source": [
        ""
      ],
      "metadata": {
        "id": "JLC5LJdU3Xry"
      },
      "execution_count": null,
      "outputs": []
    },
    {
      "cell_type": "code",
      "source": [
        ""
      ],
      "metadata": {
        "id": "P-ifaqkU3XuO"
      },
      "execution_count": null,
      "outputs": []
    },
    {
      "cell_type": "code",
      "source": [
        ""
      ],
      "metadata": {
        "id": "l2ZdUC-U3Xw0"
      },
      "execution_count": null,
      "outputs": []
    },
    {
      "cell_type": "code",
      "source": [
        ""
      ],
      "metadata": {
        "id": "s-n54w3U3XzG"
      },
      "execution_count": null,
      "outputs": []
    },
    {
      "cell_type": "code",
      "source": [
        ""
      ],
      "metadata": {
        "id": "igh1_yd03X1l"
      },
      "execution_count": null,
      "outputs": []
    },
    {
      "cell_type": "code",
      "source": [
        ""
      ],
      "metadata": {
        "id": "9l2ku1m53X4K"
      },
      "execution_count": null,
      "outputs": []
    },
    {
      "cell_type": "code",
      "source": [
        ""
      ],
      "metadata": {
        "id": "J_gypjKx3X6Y"
      },
      "execution_count": null,
      "outputs": []
    },
    {
      "cell_type": "code",
      "source": [
        ""
      ],
      "metadata": {
        "id": "0hw6HLrT3X8k"
      },
      "execution_count": null,
      "outputs": []
    },
    {
      "cell_type": "code",
      "source": [
        ""
      ],
      "metadata": {
        "id": "QRXFHpWV3X-2"
      },
      "execution_count": null,
      "outputs": []
    },
    {
      "cell_type": "code",
      "source": [
        ""
      ],
      "metadata": {
        "id": "SDh-Tk0L3YBi"
      },
      "execution_count": null,
      "outputs": []
    },
    {
      "cell_type": "code",
      "source": [
        ""
      ],
      "metadata": {
        "id": "kJvIoZAU3YEh"
      },
      "execution_count": null,
      "outputs": []
    },
    {
      "cell_type": "code",
      "source": [
        ""
      ],
      "metadata": {
        "id": "koztgSij3YxV"
      },
      "execution_count": null,
      "outputs": []
    },
    {
      "cell_type": "code",
      "source": [
        ""
      ],
      "metadata": {
        "id": "6iCLIOS53Y0N"
      },
      "execution_count": null,
      "outputs": []
    },
    {
      "cell_type": "code",
      "source": [
        ""
      ],
      "metadata": {
        "id": "-POT96OK3Y2D"
      },
      "execution_count": null,
      "outputs": []
    },
    {
      "cell_type": "code",
      "source": [
        ""
      ],
      "metadata": {
        "id": "VTllxqsU3Y4i"
      },
      "execution_count": null,
      "outputs": []
    },
    {
      "cell_type": "code",
      "source": [
        ""
      ],
      "metadata": {
        "id": "_vIIrMXY3Y77"
      },
      "execution_count": null,
      "outputs": []
    }
  ]
}